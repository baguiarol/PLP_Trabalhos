{
 "cells": [
  {
   "cell_type": "markdown",
   "metadata": {},
   "source": [
    "## __Lista de Exercicios de Linguagens de Programação 3__"
   ]
  },
  {
   "cell_type": "markdown",
   "metadata": {},
   "source": [
    "Nome: Brenda Aguiar, Elizamara Almeida"
   ]
  },
  {
   "cell_type": "markdown",
   "metadata": {},
   "source": [
    "#### __Teoria__"
   ]
  },
  {
   "cell_type": "markdown",
   "metadata": {},
   "source": [
    "1) Entre as características associadas com linguagens lógicas, podemos citar a programação baseada em motores de inferência, a unificação, a representação via cláusulas lógicas e a falsidade como falha. O que você entende por cada uma delas?"
   ]
  },
  {
   "cell_type": "markdown",
   "metadata": {},
   "source": [
    "2) Por que o uso de predicados assert e retract á associado à programação com efeitos colaterais?"
   ]
  },
  {
   "cell_type": "markdown",
   "metadata": {},
   "source": [
    "#### __Programação em Lógica__"
   ]
  },
  {
   "cell_type": "markdown",
   "metadata": {},
   "source": [
    "3) Traduza as seguintes sentenças (em itálico) para Prolog. Consulte então o programa para responder as perguntas que seguem o texto."
   ]
  },
  {
   "cell_type": "markdown",
   "metadata": {},
   "source": [
    "Texto: Chiara foi assassinada com um instrumento semelhante a um bastão. A morte ocorreu provavelmente na quinta ou sexta-feira. Nada indica que mais que uma pessoa esteve envolvida. As evidências apontam que o motivo do crime foi dinheiro, ciúmes ou insanidade, e que o assassino deve ser uma das pessoas que moravam na pensão com Chiara. Os investigadores sabem que a arma do crime ou é a perna de madeira que foi roubada de Pietro (um rapaz pobre) na quinta-feira em Belo Horizonte ou na quarta-feira em Contagem; ou o martelo que foi roubado da caixa de ferramentas da pensão na quarta ou quinta-feira. O assassino entrou no quarto de Chiara usando uma chave que foi roubada dela na segunda-feira em Contagem ou terça-feira em Belo Horizonte. Uma quantia considerável de dinheiro foi levada do quarto da Chiara. A amiga pobre de Chiara, Eliza, tem uma cópia da chave. Chiara tem um relacionamento com Pietro, que por sua vez teve um relacionamento com uma garota rica, a Carol. Além disso, Chiara tinha um relacionamento com Alfredo, que é pobre, mas se relacionava com uma garota rica, Elena, que por sua vez tinha um relacionamento com o igualmente\n",
    "rico Henrico. Henrico estava romanticamente envolvido com Maria, uma garota pobre, que costumava se envolver com Adriano, que é rico, e costumava se envolver com Carol. Alfredo estava em Contagem na segunda e terça-feira, em Belo Horizonte na quarta-feira, em Contagem novamente na quinta-feira, quando voltou à pensão na sexta. Carol esteve em Belo Horizonte de segunda a quarta-feira, em Contagem na quinta-feira e na sexta-feira voltou à pensão. Henrico estava na pensão na segunda-feira, em Belo Horizonte, na terça-feira, e depois voltou para a pensão. Eliza passou a segunda-feira na pensão, esteve em Belo Horizonte na terça e quarta-feira, em Contagem na quinta-feira, e voltou para casa na sexta-feira de manhã. Adriano estava em Contagem na quarta-feira e em casa pelo resto da semana. Elena estava em Belo Horizonte terça e quarta feira, na pensão segunda, quinta e sexta-feira. Pietro esteve\n",
    "em Contagem segunda e terça-feira, em Belo Horizonte na quarta-feira, em Contagem novamente na quinta-feira, e em casa sexta-feira. Maria estava em Contagem de terça a quinta-feira e na pensão de segunda a sexta-feira. Adriano e Maria têm consultado um terapeuta por causa de distúrbios psicóticos que ocasionalmente se manifestam como comportamento violento sem motivação. Pergunta: Quem matou Chiara e por quê?"
   ]
  },
  {
   "cell_type": "markdown",
   "metadata": {},
   "source": [
    "4) Implemente um interpretador em Prolog que traduza sentenças em linguagem natural para o protocolo reconhecido pelo servidor Python descrito na Lista 2. Ou seja, este cliente deve receber sentenças em linguagem natural e emiti-las em um dos formatos abaixo:"
   ]
  },
  {
   "cell_type": "markdown",
   "metadata": {},
   "source": [
    "* (+ id) F C X Y: criar figura com identificador id (inteiro), forma F (s para quadrado e c para circulo), cor C (pelo menos, black, red, green e blue) e coordenadas X e Y (inteiros de 0 a 4).\n",
    "* (- id): apagar figura identificada por id.\n",
    "* (- F C): apagar figura identificada por F C.\n",
    "* m id X Y: mover figura identificada por id para coordenadas X e Y.\n",
    "* m F C X Y: mover figura identificada por F C para coordenadas X e Y."
   ]
  },
  {
   "cell_type": "markdown",
   "metadata": {},
   "source": [
    "#### __Exemplos na especificação do trabalho__"
   ]
  },
  {
   "cell_type": "markdown",
   "metadata": {},
   "source": [
    "5) Baseado em sua experiência com Prolog, a compare com Python OO, considerando os seguintes critérios:"
   ]
  },
  {
   "cell_type": "markdown",
   "metadata": {},
   "source": [
    "a. Simplicidade, Ortogonalidade, Tipos de Dados, Projeto de Sintaxe, Suporte à\n",
    "Abstração, Expressividade, Checagem de Tipos, Manipulação de Exceções e\n",
    "Restrição de Aliases.\n",
    "\n",
    "b. Legibilidade, escrita e confiabilidade"
   ]
  },
  {
   "cell_type": "code",
   "execution_count": null,
   "metadata": {},
   "outputs": [],
   "source": []
  }
 ],
 "metadata": {
  "kernelspec": {
   "display_name": "Python 3",
   "language": "python",
   "name": "python3"
  },
  "language_info": {
   "codemirror_mode": {
    "name": "ipython",
    "version": 3
   },
   "file_extension": ".py",
   "mimetype": "text/x-python",
   "name": "python",
   "nbconvert_exporter": "python",
   "pygments_lexer": "ipython3",
   "version": "3.6.4"
  }
 },
 "nbformat": 4,
 "nbformat_minor": 2
}
