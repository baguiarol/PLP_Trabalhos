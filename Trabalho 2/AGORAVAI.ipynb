{
 "cells": [
  {
   "cell_type": "code",
   "execution_count": 1,
   "metadata": {},
   "outputs": [],
   "source": [
    "%gui tk\n",
    "import sys\n",
    "if(sys.version_info[0]<3):\n",
    "    from Tkinter import *\n",
    "else:\n",
    "    from tkinter import *\n",
    "import threading\n",
    "import _thread\n",
    "from threading import Thread\n",
    "import socket"
   ]
  },
  {
   "cell_type": "code",
   "execution_count": 5,
   "metadata": {},
   "outputs": [],
   "source": [
    "class Quadrado(object):\n",
    "    def __init__(self, w, x = 0, y = 0, lado = 30, cor = 'blue'):\n",
    "        self.w = w\n",
    "        self.x, self.y = x, y\n",
    "        self.lado = lado\n",
    "        self.cor = cor\n",
    "        self.id = None\n",
    "    def set_xy(self, x, y):\n",
    "        self.x = x\n",
    "        self.y = y\n",
    "    def get_xy(self):\n",
    "        return self.x, self.y \n",
    "    def area(self):\n",
    "        return self.lado * self.lado\n",
    "    def desenhar(self):\n",
    "        self.id = self.w.create_rectangle(self.x, self.y,  self.x + self.lado,\n",
    "                                          self.y + self.lado,fill = self.cor, outline = '')"
   ]
  },
  {
   "cell_type": "code",
   "execution_count": null,
   "metadata": {},
   "outputs": [],
   "source": []
  },
  {
   "cell_type": "code",
   "execution_count": 4,
   "metadata": {},
   "outputs": [],
   "source": [
    "class Circulo1(object):    \n",
    "    def __init__(self, w, x = 0, y = 0,cor = 'red', raio = 18, ):\n",
    "        self.w = w\n",
    "        self.x, self.y = x, y\n",
    "        self.raio = raio\n",
    "        self.cor = cor\n",
    "        self.id = None\n",
    "    def set_xy(self, x, y):\n",
    "        self.x = x\n",
    "        self.y = y\n",
    "    def get_xy(self):\n",
    "        return self.x, self.y   \n",
    "    def area(self):\n",
    "        return 3.1416 * self.raio**2\n",
    "    def desenhar(self):\n",
    "        self.id = self.w.create_oval(self.x - self.raio, \n",
    "                                     self.y - self.raio, \n",
    "                                     self.x + self.raio, \n",
    "                                     self.y + self.raio,\n",
    "                                     fill = self.cor, \n",
    "                                     outline = '')\n"
   ]
  },
  {
   "cell_type": "code",
   "execution_count": null,
   "metadata": {},
   "outputs": [],
   "source": []
  },
  {
   "cell_type": "code",
   "execution_count": 91,
   "metadata": {},
   "outputs": [],
   "source": [
    "class Grid:\n",
    "    def __init__(self, master, lins, cols, cell_h = 50, cell_w = 50):\n",
    "        self.cell_h = cell_h\n",
    "        self.cell_w = cell_w\n",
    "        self.maxlins = lins\n",
    "        self.maxcols = cols\n",
    "        h = lins * cell_h + 1\n",
    "        w = cols * cell_w + 1\n",
    "        self.w = Canvas(master, height = h, width = w)\n",
    "        self.w.configure(borderwidth=0, highlightthickness=0)\n",
    "        self.w.pack()\n",
    "        for i in range(0, h, cell_h):\n",
    "            self.w.create_line([(i, 0), (i, h)])\n",
    "        for i in range(0, w, cell_w):\n",
    "            self.w.create_line([(0, i), (w, i)])"
   ]
  },
  {
   "cell_type": "code",
   "execution_count": 93,
   "metadata": {},
   "outputs": [],
   "source": [
    "m = Tk()\n",
    "grid = Grid(m, 5, 5, cell_h = 50, cell_w = 50)\n",
    "#w = Canvas(m, width = 400, height = 400)\n",
    "#w.pack()\n",
    "q = Quadrado(grid.w, 10,10)\n",
    "q.set_xy(10, 10)\n",
    "q.desenhar()\n",
    "# 50, 50 eh o centro do circulo\n",
    "c = Circulo(grid.w, 10, 10)    \n",
    "c.set_xy(75, 26)\n",
    "c.desenhar()\n"
   ]
  },
  {
   "cell_type": "code",
   "execution_count": null,
   "metadata": {},
   "outputs": [],
   "source": [
    "x = t = z = input()\n"
   ]
  },
  {
   "cell_type": "code",
   "execution_count": null,
   "metadata": {},
   "outputs": [],
   "source": []
  }
 ],
 "metadata": {
  "kernelspec": {
   "display_name": "Python 2",
   "language": "python",
   "name": "python2"
  },
  "language_info": {
   "codemirror_mode": {
    "name": "ipython",
    "version": 3
   },
   "file_extension": ".py",
   "mimetype": "text/x-python",
   "name": "python",
   "nbconvert_exporter": "python",
   "pygments_lexer": "ipython3",
   "version": "3.7.3"
  }
 },
 "nbformat": 4,
 "nbformat_minor": 2
}
