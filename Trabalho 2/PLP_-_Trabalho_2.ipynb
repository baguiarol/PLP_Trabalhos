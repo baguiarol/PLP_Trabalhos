{
 "cells": [
  {
   "cell_type": "markdown",
   "metadata": {},
   "source": [
    "## Lista de Exercícios de Linguagens de Programação II"
   ]
  },
  {
   "cell_type": "markdown",
   "metadata": {},
   "source": [
    "Nome: Brenda Aguiar, Elizamara Almeida"
   ]
  },
  {
   "cell_type": "markdown",
   "metadata": {},
   "source": [
    "#### __Teoria__"
   ]
  },
  {
   "cell_type": "markdown",
   "metadata": {},
   "source": [
    "__1) Quais as principais caracteristicas de linguagens para objetos?__\n",
    "\n",
    "R: As principais caracteristicas das linguagens OO são: abstração, encapsulamento, herança e polimorfismo."
   ]
  },
  {
   "cell_type": "markdown",
   "metadata": {},
   "source": [
    "__2)Quais os objetivos a serem alcançados com herança?__\n",
    "\n",
    "R: Herança, na prática, significa a possibilidade de construir objetos especializados que herdam as características de objetos mais generalistas, ou ainda, a herança uma maneira de reutilizar código a medida que podemos aproveitar os atributos e métodos de classes já existentes para gerar novas classes mais específicas que aproveitarão os recursos da classe \"hierarquicamente superior\". "
   ]
  },
  {
   "cell_type": "markdown",
   "metadata": {},
   "source": [
    "__3) Qual a diferença entre herança de classes concretas e abstratas?__\n",
    "\n",
    "\n",
    "R: -> Classe concreta (concrete class) É uma classe que pode ser instanciada diretamente.\n",
    "   \n",
    "   \n",
    "   -> Classe abstrata (abstract class) É uma classe que não pode ser instanciada diretamente.  \n"
   ]
  },
  {
   "cell_type": "markdown",
   "metadata": {},
   "source": [
    "__4) Entre herança e composição, porque atualmente se incentiva a segunda como forma de obter reuso de código?__\n",
    "\n",
    "R: A grande vantagem da Composição é que o comportamento pode ser escolhido em tempo de execução em vez de estar amarrado em tempo de compilação. Além disso, os objetos que foram instanciados e estão contidos na classe que os instanciou são acessados somente através de sua interface seguindo assim o princípio de programar para uma interface e não para uma implementação. A composição também apresenta uma menor dependência de implementações e temos cada classe focada em apenas uma tarefa seguindo outro principio da responsabilidade única. Por fim, a composição também tem um bom encapsulamento onde os detalhes internos dos objetos instanciados não são visíveis."
   ]
  },
  {
   "cell_type": "markdown",
   "metadata": {},
   "source": [
    "__5) O que é programação orientada a aspectos (POA)?__\n",
    "\n",
    "\n",
    "R: Em ciência da computação, programação orientada a aspectos ou POA, é um paradigma de programação de computadores que permite aos desenvolvedores de software separar e organizar o código de acordo com a sua importância para a aplicação (separation of concerns)."
   ]
  },
  {
   "cell_type": "markdown",
   "metadata": {},
   "source": [
    "__6) Qual a diferença entre linguagens reflexivas e introspectivas?__\n",
    "R:"
   ]
  },
  {
   "cell_type": "markdown",
   "metadata": {},
   "source": [
    "#### __Programação OO__"
   ]
  },
  {
   "cell_type": "markdown",
   "metadata": {},
   "source": [
    "7) Implemente um servidor socket em Python OO para manipulação de figuras geométricas em um grid gráfico em ambiente X. Seu servidor deve iniciar um grid de 5x5 células, como visto na figura abaixo, e esperar por requisições para criação, remoção e movimentação de figuras. Mais especificamente, o servidor deve reconhecer os seguintes comandos enviados por clientes socket:"
   ]
  },
  {
   "cell_type": "markdown",
   "metadata": {},
   "source": [
    "* (+ id) F C X Y: criar figura com identificador id (inteiro), forma F (s para quadrado e c para circulo), cor C (pelo menos, black, red, green e blue) e coordenadas X e Y (inteiros de 0 a 4).\n",
    "* (- id): apagar figura identificada por id.\n",
    "* m id X Y: mover figura identificada por id para coordenadas X e Y."
   ]
  },
  {
   "cell_type": "code",
   "execution_count": null,
   "metadata": {},
   "outputs": [],
   "source": []
  },
  {
   "cell_type": "markdown",
   "metadata": {},
   "source": [
    "Os comandos podem opcionalmente não fazer referencia explicita aos identificadores. Neste caso, identificadores adequados devem ser criados implicitamente. "
   ]
  },
  {
   "cell_type": "markdown",
   "metadata": {},
   "source": [
    "* (+ F C X Y): criar figura com forma F, cor C e coordenadas X e Y.\n",
    "* (- F C): apagar figura identificada por F C.\n",
    "* m F C X Y: mover figura identificada por F C para coordenadas X e Y."
   ]
  },
  {
   "cell_type": "code",
   "execution_count": 2,
   "metadata": {},
   "outputs": [
    {
     "ename": "ModuleNotFoundError",
     "evalue": "No module named 'Tkinter'",
     "output_type": "error",
     "traceback": [
      "\u001b[0;31m---------------------------------------------------------------------------\u001b[0m",
      "\u001b[0;31mModuleNotFoundError\u001b[0m                       Traceback (most recent call last)",
      "\u001b[0;32m<ipython-input-2-0c1ec0a4d97b>\u001b[0m in \u001b[0;36m<module>\u001b[0;34m\u001b[0m\n\u001b[1;32m      6\u001b[0m \u001b[0;32mfrom\u001b[0m \u001b[0msocket\u001b[0m \u001b[0;32mimport\u001b[0m \u001b[0;34m*\u001b[0m\u001b[0;34m\u001b[0m\u001b[0;34m\u001b[0m\u001b[0m\n\u001b[1;32m      7\u001b[0m \u001b[0;32mfrom\u001b[0m \u001b[0mthreading\u001b[0m \u001b[0;32mimport\u001b[0m \u001b[0;34m*\u001b[0m\u001b[0;34m\u001b[0m\u001b[0;34m\u001b[0m\u001b[0m\n\u001b[0;32m----> 8\u001b[0;31m \u001b[0;32mfrom\u001b[0m \u001b[0mTkinter\u001b[0m \u001b[0;32mimport\u001b[0m \u001b[0;34m*\u001b[0m\u001b[0;34m\u001b[0m\u001b[0;34m\u001b[0m\u001b[0m\n\u001b[0m\u001b[1;32m      9\u001b[0m \u001b[0;31m#import Tkinter\u001b[0m\u001b[0;34m\u001b[0m\u001b[0;34m\u001b[0m\u001b[0;34m\u001b[0m\u001b[0m\n\u001b[1;32m     10\u001b[0m \u001b[0;34m\u001b[0m\u001b[0m\n",
      "\u001b[0;31mModuleNotFoundError\u001b[0m: No module named 'Tkinter'"
     ]
    }
   ],
   "source": [
    "# servidor de Figuras\n",
    "# para testa-lo, use como cliente o telnet\n",
    "# Ex: telnet localhost 7777\n",
    "\n",
    "%gui tk\n",
    "from socket import *\n",
    "from threading import *\n",
    "from Tkinter import *\n",
    "#import Tkinter\n",
    "\n",
    "HOST = '' # hostname\n",
    "PORT = 7777 # comm port\n",
    "class Grid:\n",
    "    def __init__(self, master, lins, cols, cell_h = 50, cell_w = 50):\n",
    "        self.cell_h = cell_h\n",
    "        self.cell_w = cell_w\n",
    "        self.maxlins = lins\n",
    "        self.maxcols = cols\n",
    "        h = lins * cell_h + 1\n",
    "        w = cols * cell_w + 1\n",
    "        self.w = Canvas(master, height = h, width = w)\n",
    "        self.w.configure(borderwidth=0, highlightthickness=0)\n",
    "        self.w.pack()\n",
    "        for i in range(0, h, cell_h):\n",
    "            self.w.create_line([(i, 0), (i, h)])\n",
    "        for i in range(0, w, cell_w):\n",
    "            self.w.create_line([(0, i), (w, i)])\n",
    "\n",
    "    def draw_circle(self, lin, col):\n",
    "        x = col * self.cell_h\n",
    "        y = lin * self.cell_w\n",
    "        return self.w.create_oval(x + 10, y + 10,\n",
    "            x + self.cell_w - 10, y + self.cell_h - 10,\n",
    "            fill = 'blue', outline = '')\n",
    "\n",
    "class Server(Thread):\n",
    "    def __init__(self, grid):\n",
    "        Thread.__init__(self)\n",
    "        self.grid = grid\n",
    "        self.server = socket()\n",
    "        self.server.bind((HOST, PORT))\n",
    "        self.server.listen(5)\n",
    "        self.client, addr = self.server.accept()\n",
    "    def process_cmd(self, cmd):\n",
    "        # + id shape(c|s) color lin col\n",
    "        # - id\n",
    "        # m id lin col\n",
    "        # + shape(c|s) color lin col\n",
    "        # - shape(c|s) color\n",
    "        # m shape(c|s) color lin col\n",
    "        reply = 'Done.\\n'\n",
    "        self.grid.draw_circle(2, 2)\n",
    "        return reply\n",
    "    def run(self):\n",
    "        while True:\n",
    "            try:\n",
    "                text = self.client.recv(1024)\n",
    "                if not text:\n",
    "                    break\n",
    "                reply = self.process_cmd(text)\n",
    "                self.client.sendall(reply)\n",
    "            except:\n",
    "                break\n",
    "        self.client.close()\n",
    "if __name__ == '__main__':\n",
    "    root = Tk()\n",
    "    root.title('Grid World')\n",
    "    grid = Grid(root, 5, 5, cell_h = 60, cell_w = 60)\n",
    "    app = Server(grid).start()\n",
    "    root.mainloop()"
   ]
  },
  {
   "cell_type": "markdown",
   "metadata": {},
   "source": [
    "__Exemplos na especificação do trabalho.__"
   ]
  },
  {
   "cell_type": "markdown",
   "metadata": {},
   "source": [
    "8) Baseado em sua experiência com Python OO, a compare com Python Funcional, considerando os seguintes critérios:"
   ]
  },
  {
   "cell_type": "markdown",
   "metadata": {},
   "source": [
    "a. Simplicidade, Ortogonalidade, Tipos de Dados, Projeto de Sintaxe, Suporte à Abstração, Expressividade, Checagem de Tipos, Manipulação de Exceções e Restrição de Aliases.\n",
    "\n",
    "b. Legibilidade, escrita e confiabilidade."
   ]
  },
  {
   "cell_type": "code",
   "execution_count": null,
   "metadata": {},
   "outputs": [],
   "source": []
  }
 ],
 "metadata": {
  "kernelspec": {
   "display_name": "Python 3",
   "language": "python",
   "name": "python3"
  },
  "language_info": {
   "codemirror_mode": {
    "name": "ipython",
    "version": 3
   },
   "file_extension": ".py",
   "mimetype": "text/x-python",
   "name": "python",
   "nbconvert_exporter": "python",
   "pygments_lexer": "ipython3",
   "version": "3.7.3"
  }
 },
 "nbformat": 4,
 "nbformat_minor": 2
}
