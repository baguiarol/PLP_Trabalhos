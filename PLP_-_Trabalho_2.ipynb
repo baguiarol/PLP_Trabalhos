{
 "cells": [
  {
   "cell_type": "markdown",
   "metadata": {},
   "source": [
    "## Lista de Exercícios de Linguagens de Programação II"
   ]
  },
  {
   "cell_type": "markdown",
   "metadata": {},
   "source": [
    "Nome: Brenda Aguiar, Elizamara Almeida"
   ]
  },
  {
   "cell_type": "markdown",
   "metadata": {},
   "source": [
    "#### __Teoria__"
   ]
  },
  {
   "cell_type": "markdown",
   "metadata": {},
   "source": [
    "__1) Quais as principais caracteristicas de linguagens para objetos?__\n",
    "\n",
    "R: As principais caracteristicas das linguagens OO são: abstração, encapsulamento, herança e polimorfismo."
   ]
  },
  {
   "cell_type": "markdown",
   "metadata": {},
   "source": [
    "__2)Quais os objetivos a serem alcançados com herança?__\n",
    "\n",
    "R: Herança, na prática, significa a possibilidade de construir objetos especializados que herdam as características de objetos mais generalistas, ou ainda, a herança uma maneira de reutilizar código a medida que podemos aproveitar os atributos e métodos de classes já existentes para gerar novas classes mais específicas que aproveitarão os recursos da classe \"hierarquicamente superior\". "
   ]
  },
  {
   "cell_type": "markdown",
   "metadata": {},
   "source": [
    "__3) Qual a diferença entre herança de classes concretas e abstratas?__\n",
    "\n",
    "\n",
    "R: -> Classe concreta (concrete class) É uma classe que pode ser instanciada diretamente.\n",
    "   \n",
    "   \n",
    "   -> Classe abstrata (abstract class) É uma classe que não pode ser instanciada diretamente.  \n"
   ]
  },
  {
   "cell_type": "markdown",
   "metadata": {},
   "source": [
    "__4) Entre herança e composição, porque atualmente se incentiva a segunda como forma de obter reuso de código?__\n",
    "\n",
    "R: A grande vantagem da Composição é que o comportamento pode ser escolhido em tempo de execução em vez de estar amarrado em tempo de compilação. Além disso, os objetos que foram instanciados e estão contidos na classe que os instanciou são acessados somente através de sua interface seguindo assim o princípio de programar para uma interface e não para uma implementação. A composição também apresenta uma menor dependência de implementações e temos cada classe focada em apenas uma tarefa seguindo outro principio da responsabilidade única. Por fim, a composição também tem um bom encapsulamento onde os detalhes internos dos objetos instanciados não são visíveis."
   ]
  },
  {
   "cell_type": "markdown",
   "metadata": {},
   "source": [
    "__5) O que é programação orientada a aspectos (POA)?__\n",
    "\n",
    "\n",
    "R: Em ciência da computação, programação orientada a aspectos ou POA, é um paradigma de programação de computadores que permite aos desenvolvedores de software separar e organizar o código de acordo com a sua importância para a aplicação (separation of concerns)."
   ]
  },
  {
   "cell_type": "markdown",
   "metadata": {},
   "source": [
    "__6) Qual a diferença entre linguagens reflexivas e introspectivas?__\n",
    "R:"
   ]
  },
  {
   "cell_type": "markdown",
   "metadata": {},
   "source": [
    "#### __Programação OO__"
   ]
  },
  {
   "cell_type": "markdown",
   "metadata": {},
   "source": [
    "7) Implemente um servidor socket em Python OO para manipulação de figuras geométricas em um grid gráfico em ambiente X. Seu servidor deve iniciar um grid de 5x5 células, como visto na figura abaixo, e esperar por requisições para criação, remoção e movimentação de figuras. Mais especificamente, o servidor deve reconhecer os seguintes comandos enviados por clientes socket:"
   ]
  },
  {
   "cell_type": "markdown",
   "metadata": {},
   "source": [
    "* (+ id) F C X Y: criar figura com identificador id (inteiro), forma F (s para quadrado e c para circulo), cor C (pelo menos, black, red, green e blue) e coordenadas X e Y (inteiros de 0 a 4).\n",
    "* (- id): apagar figura identificada por id.\n",
    "* m id X Y: mover figura identificada por id para coordenadas X e Y."
   ]
  },
  {
   "cell_type": "code",
   "execution_count": null,
   "metadata": {},
   "outputs": [],
   "source": []
  },
  {
   "cell_type": "markdown",
   "metadata": {},
   "source": [
    "Os comandos podem opcionalmente não fazer referencia explicita aos identificadores. Neste caso, identificadores adequados devem ser criados implicitamente. "
   ]
  },
  {
   "cell_type": "markdown",
   "metadata": {},
   "source": [
    "* (+ F C X Y): criar figura com forma F, cor C e coordenadas X e Y.\n",
    "* (- F C): apagar figura identificada por F C.\n",
    "* m F C X Y: mover figura identificada por F C para coordenadas X e Y."
   ]
  },
  {
   "cell_type": "markdown",
   "metadata": {},
   "source": [
    "__Exemplos na especificação do trabalho.__"
   ]
  },
  {
   "cell_type": "markdown",
   "metadata": {},
   "source": [
    "8) Baseado em sua experiência com Python OO, a compare com Python Funcional, considerando os seguintes critérios:"
   ]
  },
  {
   "cell_type": "markdown",
   "metadata": {},
   "source": [
    "a. Simplicidade, Ortogonalidade, Tipos de Dados, Projeto de Sintaxe, Suporte à Abstração, Expressividade, Checagem de Tipos, Manipulação de Exceções e Restrição de Aliases.\n",
    "\n"
   ]
  },
  {
   "cell_type": "markdown",
   "metadata": {},
   "source": [
    "b. Legibilidade, escrita e confiabilidade."
   ]
  }
 ],
 "metadata": {
  "kernelspec": {
   "display_name": "Python 3",
   "language": "python",
   "name": "python3"
  },
  "language_info": {
   "codemirror_mode": {
    "name": "ipython",
    "version": 3
   },
   "file_extension": ".py",
   "mimetype": "text/x-python",
   "name": "python",
   "nbconvert_exporter": "python",
   "pygments_lexer": "ipython3",
   "version": "3.7.3"
  }
 },
 "nbformat": 4,
 "nbformat_minor": 2
}
